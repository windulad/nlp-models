{
 "cells": [
  {
   "cell_type": "code",
   "execution_count": 1,
   "id": "ac4503df-a61b-4276-90fa-b774095a9c82",
   "metadata": {},
   "outputs": [],
   "source": [
    "import nltk"
   ]
  },
  {
   "cell_type": "code",
   "execution_count": 2,
   "id": "4a7e400e-08e9-42e6-9739-445eca62abb1",
   "metadata": {},
   "outputs": [],
   "source": [
    "sentence_data = \"The Moon is a barren, rocky world without air and water. It has dark lava plain on its surface. The Moon is filled wit craters. It has no light of its own.\""
   ]
  },
  {
   "cell_type": "code",
   "execution_count": 3,
   "id": "865a7e2a-46ad-457d-bf86-9575a57cf4d0",
   "metadata": {},
   "outputs": [],
   "source": [
    "nltk_tokens = nltk.sent_tokenize(sentence_data)"
   ]
  },
  {
   "cell_type": "code",
   "execution_count": 4,
   "id": "2d627d93-1449-460d-ae8b-c5cedc9b2990",
   "metadata": {},
   "outputs": [
    {
     "name": "stdout",
     "output_type": "stream",
     "text": [
      "['The Moon is a barren, rocky world without air and water.', 'It has dark lava plain on its surface.', 'The Moon is filled wit craters.', 'It has no light of its own.']\n"
     ]
    }
   ],
   "source": [
    "print (nltk_tokens)"
   ]
  },
  {
   "cell_type": "code",
   "execution_count": null,
   "id": "8b113b11-ab50-4104-845d-f1889fc4a4d6",
   "metadata": {},
   "outputs": [],
   "source": []
  }
 ],
 "metadata": {
  "kernelspec": {
   "display_name": "Python 3 (ipykernel)",
   "language": "python",
   "name": "python3"
  },
  "language_info": {
   "codemirror_mode": {
    "name": "ipython",
    "version": 3
   },
   "file_extension": ".py",
   "mimetype": "text/x-python",
   "name": "python",
   "nbconvert_exporter": "python",
   "pygments_lexer": "ipython3",
   "version": "3.11.4"
  }
 },
 "nbformat": 4,
 "nbformat_minor": 5
}
