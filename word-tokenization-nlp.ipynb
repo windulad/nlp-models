{
 "cells": [
  {
   "cell_type": "code",
   "execution_count": 1,
   "id": "53ebcb3a-d450-428c-83a9-59e266e9e4b4",
   "metadata": {},
   "outputs": [],
   "source": [
    "import nltk"
   ]
  },
  {
   "cell_type": "code",
   "execution_count": 2,
   "id": "54ebec66-a56a-45fa-85ef-f89d345102c9",
   "metadata": {},
   "outputs": [],
   "source": [
    "word_data = \"A wiki enables communities of editors and contributors to write documents collaboratively.\""
   ]
  },
  {
   "cell_type": "code",
   "execution_count": 3,
   "id": "23c3e68c-e13a-405e-a6e1-8b4f69216212",
   "metadata": {},
   "outputs": [],
   "source": [
    "nltk_tokens = nltk.word_tokenize(word_data)"
   ]
  },
  {
   "cell_type": "code",
   "execution_count": 4,
   "id": "52c71c90-c943-45c2-bd67-fd8f106651d0",
   "metadata": {},
   "outputs": [
    {
     "name": "stdout",
     "output_type": "stream",
     "text": [
      "['A', 'wiki', 'enables', 'communities', 'of', 'editors', 'and', 'contributors', 'to', 'write', 'documents', 'collaboratively', '.']\n"
     ]
    }
   ],
   "source": [
    "print (nltk_tokens)"
   ]
  },
  {
   "cell_type": "code",
   "execution_count": null,
   "id": "5cbfb174-8d2d-404e-8691-2ac056276850",
   "metadata": {},
   "outputs": [],
   "source": []
  }
 ],
 "metadata": {
  "kernelspec": {
   "display_name": "Python 3 (ipykernel)",
   "language": "python",
   "name": "python3"
  },
  "language_info": {
   "codemirror_mode": {
    "name": "ipython",
    "version": 3
   },
   "file_extension": ".py",
   "mimetype": "text/x-python",
   "name": "python",
   "nbconvert_exporter": "python",
   "pygments_lexer": "ipython3",
   "version": "3.11.4"
  }
 },
 "nbformat": 4,
 "nbformat_minor": 5
}
