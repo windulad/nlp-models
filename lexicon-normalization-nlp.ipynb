{
 "cells": [
  {
   "cell_type": "code",
   "execution_count": 1,
   "id": "eb2cc052-962c-4cff-8413-4af350380b31",
   "metadata": {},
   "outputs": [],
   "source": [
    "from nltk.stem.wordnet import WordNetLemmatizer\n",
    "lem = WordNetLemmatizer()"
   ]
  },
  {
   "cell_type": "code",
   "execution_count": 2,
   "id": "e2aac77e-031c-45ba-a522-5f6fe39830a6",
   "metadata": {},
   "outputs": [],
   "source": [
    "from nltk.stem.porter import PorterStemmer\n",
    "stem = PorterStemmer()"
   ]
  },
  {
   "cell_type": "code",
   "execution_count": 6,
   "id": "30e05a82-fb27-4688-9aa2-893c1a5b83f5",
   "metadata": {},
   "outputs": [
    {
     "name": "stdout",
     "output_type": "stream",
     "text": [
      "multiply\n"
     ]
    }
   ],
   "source": [
    "word = \"multiplying\"\n",
    "word1=lem.lemmatize(word, \"v\")\n",
    "print(word1) "
   ]
  },
  {
   "cell_type": "code",
   "execution_count": 7,
   "id": "46ddc494-e268-4228-8654-8543d86c9af0",
   "metadata": {},
   "outputs": [
    {
     "name": "stdout",
     "output_type": "stream",
     "text": [
      "multiply\n"
     ]
    }
   ],
   "source": [
    "word2=stem.stem(word)\n",
    "print(word1) "
   ]
  },
  {
   "cell_type": "code",
   "execution_count": null,
   "id": "e5032796-6396-4f65-8d51-cdbfe1488132",
   "metadata": {},
   "outputs": [],
   "source": []
  }
 ],
 "metadata": {
  "kernelspec": {
   "display_name": "Python 3 (ipykernel)",
   "language": "python",
   "name": "python3"
  },
  "language_info": {
   "codemirror_mode": {
    "name": "ipython",
    "version": 3
   },
   "file_extension": ".py",
   "mimetype": "text/x-python",
   "name": "python",
   "nbconvert_exporter": "python",
   "pygments_lexer": "ipython3",
   "version": "3.11.4"
  }
 },
 "nbformat": 4,
 "nbformat_minor": 5
}
